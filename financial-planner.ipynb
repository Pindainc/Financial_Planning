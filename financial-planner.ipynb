{
 "cells": [
  {
   "cell_type": "markdown",
   "metadata": {},
   "source": [
    "# Unit 5 - Financial Planning"
   ]
  },
  {
   "cell_type": "code",
   "execution_count": 41,
   "metadata": {
    "tags": []
   },
   "outputs": [],
   "source": [
    "# Initial imports\n",
    "import os\n",
    "import requests\n",
    "import pandas as pd\n",
    "from dotenv import load_dotenv\n",
    "import alpaca_trade_api as tradeapi\n",
    "from MCForecastTools import MCSimulation\n",
    "\n",
    "%matplotlib inline"
   ]
  },
  {
   "cell_type": "code",
   "execution_count": 42,
   "metadata": {},
   "outputs": [
    {
     "data": {
      "text/plain": [
       "True"
      ]
     },
     "execution_count": 42,
     "metadata": {},
     "output_type": "execute_result"
    }
   ],
   "source": [
    "# Load .env enviroment variables\n",
    "load_dotenv('Keys.env')"
   ]
  },
  {
   "cell_type": "markdown",
   "metadata": {},
   "source": [
    "## Part 1 - Personal Finance Planner"
   ]
  },
  {
   "cell_type": "markdown",
   "metadata": {},
   "source": [
    "### Collect Crypto Prices Using the `requests` Library"
   ]
  },
  {
   "cell_type": "code",
   "execution_count": 43,
   "metadata": {},
   "outputs": [],
   "source": [
    "# Set current amount of crypto assets\n",
    "# YOUR CODE HERE!\n",
    "\n",
    "my_btc = 1.2\n",
    "my_eth = 5.3"
   ]
  },
  {
   "cell_type": "code",
   "execution_count": 44,
   "metadata": {},
   "outputs": [],
   "source": [
    "# Crypto API URLs\n",
    "btc_url = \"https://api.alternative.me/v2/ticker/Bitcoin/?convert=USD\"\n",
    "eth_url = \"https://api.alternative.me/v2/ticker/Ethereum/?convert=USD\""
   ]
  },
  {
   "cell_type": "code",
   "execution_count": 45,
   "metadata": {},
   "outputs": [],
   "source": [
    "# use lambda method to get crypto values in dollars\n",
    "\n",
    "crypto_price = lambda url, id_key: requests.get(url).json()[\"data\"][id_key][\"quotes\"][\"USD\"][\"price\"]\n"
   ]
  },
  {
   "cell_type": "code",
   "execution_count": 46,
   "metadata": {},
   "outputs": [
    {
     "name": "stdout",
     "output_type": "stream",
     "text": [
      "The current value of your 1.2 BTC is $33840.00\n",
      "The current value of your 5.3 ETH is $10259.32\n"
     ]
    }
   ],
   "source": [
    "# Fetch current BTC price\n",
    "# YOUR CODE HERE!\n",
    "btc_price = crypto_price(btc_url,\"1\")\n",
    "\n",
    "# Fetch current ETH price\n",
    "# YOUR CODE HERE!\n",
    "eth_price = crypto_price(eth_url,\"1027\")\n",
    "\n",
    "# Compute current value of my crpto\n",
    "# YOUR CODE HERE!\n",
    "my_btc_value = my_btc * btc_price\n",
    "my_eth_value = my_eth * eth_price\n",
    "# Print current crypto wallet balance\n",
    "print(f\"The current value of your {my_btc} BTC is ${my_btc_value:0.2f}\")\n",
    "print(f\"The current value of your {my_eth} ETH is ${my_eth_value:0.2f}\")"
   ]
  },
  {
   "cell_type": "markdown",
   "metadata": {},
   "source": [
    "### Collect Investments Data Using Alpaca: `SPY` (stocks) and `AGG` (bonds)"
   ]
  },
  {
   "cell_type": "code",
   "execution_count": 47,
   "metadata": {},
   "outputs": [],
   "source": [
    "# Set current amount of shares\n",
    "my_agg = 200\n",
    "my_spy = 50"
   ]
  },
  {
   "cell_type": "code",
   "execution_count": 48,
   "metadata": {},
   "outputs": [],
   "source": [
    "# Set Alpaca API key and secret\n",
    "# YOUR CODE HERE!\n",
    "aplaca_api_key = os.getenv('ALPACA_API_KEY')\n",
    "alapaca_secret_key = os.getenv(\"ALPACA_SECRET_KEY\")\n",
    "\n",
    "\n",
    "# Create the Alpaca API object\n",
    "# YOUR CODE HERE!\n",
    "\n",
    "alpaca_api = tradeapi.REST(aplaca_api_key, alapaca_secret_key, api_version = \"v2\")"
   ]
  },
  {
   "cell_type": "code",
   "execution_count": 66,
   "metadata": {},
   "outputs": [
    {
     "data": {
      "text/html": [
       "<div>\n",
       "<style scoped>\n",
       "    .dataframe tbody tr th:only-of-type {\n",
       "        vertical-align: middle;\n",
       "    }\n",
       "\n",
       "    .dataframe tbody tr th {\n",
       "        vertical-align: top;\n",
       "    }\n",
       "\n",
       "    .dataframe thead th {\n",
       "        text-align: right;\n",
       "    }\n",
       "</style>\n",
       "<table border=\"1\" class=\"dataframe\">\n",
       "  <thead>\n",
       "    <tr style=\"text-align: right;\">\n",
       "      <th></th>\n",
       "      <th>open</th>\n",
       "      <th>high</th>\n",
       "      <th>low</th>\n",
       "      <th>close</th>\n",
       "      <th>volume</th>\n",
       "      <th>trade_count</th>\n",
       "      <th>vwap</th>\n",
       "      <th>symbol</th>\n",
       "    </tr>\n",
       "    <tr>\n",
       "      <th>timestamp</th>\n",
       "      <th></th>\n",
       "      <th></th>\n",
       "      <th></th>\n",
       "      <th></th>\n",
       "      <th></th>\n",
       "      <th></th>\n",
       "      <th></th>\n",
       "      <th></th>\n",
       "    </tr>\n",
       "  </thead>\n",
       "  <tbody>\n",
       "    <tr>\n",
       "      <th>2022-04-25 04:00:00+00:00</th>\n",
       "      <td>423.67</td>\n",
       "      <td>428.69</td>\n",
       "      <td>418.84</td>\n",
       "      <td>428.51</td>\n",
       "      <td>118808140</td>\n",
       "      <td>1137270</td>\n",
       "      <td>423.953837</td>\n",
       "      <td>SPY</td>\n",
       "    </tr>\n",
       "    <tr>\n",
       "      <th>2022-04-26 04:00:00+00:00</th>\n",
       "      <td>425.83</td>\n",
       "      <td>426.04</td>\n",
       "      <td>416.07</td>\n",
       "      <td>416.10</td>\n",
       "      <td>101068359</td>\n",
       "      <td>1001083</td>\n",
       "      <td>420.126975</td>\n",
       "      <td>SPY</td>\n",
       "    </tr>\n",
       "    <tr>\n",
       "      <th>2022-04-27 04:00:00+00:00</th>\n",
       "      <td>417.24</td>\n",
       "      <td>422.92</td>\n",
       "      <td>415.01</td>\n",
       "      <td>417.27</td>\n",
       "      <td>119880232</td>\n",
       "      <td>997462</td>\n",
       "      <td>418.842917</td>\n",
       "      <td>SPY</td>\n",
       "    </tr>\n",
       "    <tr>\n",
       "      <th>2022-04-28 04:00:00+00:00</th>\n",
       "      <td>422.29</td>\n",
       "      <td>429.64</td>\n",
       "      <td>417.60</td>\n",
       "      <td>427.81</td>\n",
       "      <td>104583969</td>\n",
       "      <td>800669</td>\n",
       "      <td>424.038734</td>\n",
       "      <td>SPY</td>\n",
       "    </tr>\n",
       "    <tr>\n",
       "      <th>2022-04-29 04:00:00+00:00</th>\n",
       "      <td>423.59</td>\n",
       "      <td>425.87</td>\n",
       "      <td>411.21</td>\n",
       "      <td>412.00</td>\n",
       "      <td>144714757</td>\n",
       "      <td>1142142</td>\n",
       "      <td>416.876100</td>\n",
       "      <td>SPY</td>\n",
       "    </tr>\n",
       "  </tbody>\n",
       "</table>\n",
       "</div>"
      ],
      "text/plain": [
       "                             open    high     low   close     volume   \n",
       "timestamp                                                              \n",
       "2022-04-25 04:00:00+00:00  423.67  428.69  418.84  428.51  118808140  \\\n",
       "2022-04-26 04:00:00+00:00  425.83  426.04  416.07  416.10  101068359   \n",
       "2022-04-27 04:00:00+00:00  417.24  422.92  415.01  417.27  119880232   \n",
       "2022-04-28 04:00:00+00:00  422.29  429.64  417.60  427.81  104583969   \n",
       "2022-04-29 04:00:00+00:00  423.59  425.87  411.21  412.00  144714757   \n",
       "\n",
       "                           trade_count        vwap symbol  \n",
       "timestamp                                                  \n",
       "2022-04-25 04:00:00+00:00      1137270  423.953837    SPY  \n",
       "2022-04-26 04:00:00+00:00      1001083  420.126975    SPY  \n",
       "2022-04-27 04:00:00+00:00       997462  418.842917    SPY  \n",
       "2022-04-28 04:00:00+00:00       800669  424.038734    SPY  \n",
       "2022-04-29 04:00:00+00:00      1142142  416.876100    SPY  "
      ]
     },
     "execution_count": 66,
     "metadata": {},
     "output_type": "execute_result"
    }
   ],
   "source": [
    "# Format current date as ISO format\n",
    "# YOUR CODE HERE!\n",
    "start_date = pd.Timestamp(\"2021-05-01\", tz=\"America/New_York\").isoformat()\n",
    "end_date = pd.Timestamp(\"2022-05-01\", tz=\"America/New_York\").isoformat()\n",
    "    \n",
    "\n",
    "# Set the tickers\n",
    "tickers = [\"AGG\", \"SPY\"]\n",
    "\n",
    "\n",
    "# Set timeframe to \"1Day\" for Alpaca API\n",
    "timeframe = \"1Day\"\n",
    "\n",
    "# Get current closing prices for SPY and AGG\n",
    "# YOUR CODE HERE!\n",
    "\n",
    "spy_agg_df = alpaca_api.get_bars(tickers, \n",
    "                                 timeframe, \n",
    "                                 start= start_date, \n",
    "                                 end = end_date).df\n",
    "\n",
    "\n",
    "# Preview DataFrame\n",
    "# YOUR CODE HERE!\n",
    "spy_agg_df.tail()"
   ]
  },
  {
   "cell_type": "code",
   "execution_count": 68,
   "metadata": {},
   "outputs": [
    {
     "data": {
      "text/html": [
       "<div>\n",
       "<style scoped>\n",
       "    .dataframe tbody tr th:only-of-type {\n",
       "        vertical-align: middle;\n",
       "    }\n",
       "\n",
       "    .dataframe tbody tr th {\n",
       "        vertical-align: top;\n",
       "    }\n",
       "\n",
       "    .dataframe thead tr th {\n",
       "        text-align: left;\n",
       "    }\n",
       "\n",
       "    .dataframe thead tr:last-of-type th {\n",
       "        text-align: right;\n",
       "    }\n",
       "</style>\n",
       "<table border=\"1\" class=\"dataframe\">\n",
       "  <thead>\n",
       "    <tr>\n",
       "      <th></th>\n",
       "      <th colspan=\"7\" halign=\"left\">AGG</th>\n",
       "      <th colspan=\"7\" halign=\"left\">SPY</th>\n",
       "    </tr>\n",
       "    <tr>\n",
       "      <th></th>\n",
       "      <th>open</th>\n",
       "      <th>high</th>\n",
       "      <th>low</th>\n",
       "      <th>close</th>\n",
       "      <th>volume</th>\n",
       "      <th>trade_count</th>\n",
       "      <th>vwap</th>\n",
       "      <th>open</th>\n",
       "      <th>high</th>\n",
       "      <th>low</th>\n",
       "      <th>close</th>\n",
       "      <th>volume</th>\n",
       "      <th>trade_count</th>\n",
       "      <th>vwap</th>\n",
       "    </tr>\n",
       "    <tr>\n",
       "      <th>timestamp</th>\n",
       "      <th></th>\n",
       "      <th></th>\n",
       "      <th></th>\n",
       "      <th></th>\n",
       "      <th></th>\n",
       "      <th></th>\n",
       "      <th></th>\n",
       "      <th></th>\n",
       "      <th></th>\n",
       "      <th></th>\n",
       "      <th></th>\n",
       "      <th></th>\n",
       "      <th></th>\n",
       "      <th></th>\n",
       "    </tr>\n",
       "  </thead>\n",
       "  <tbody>\n",
       "    <tr>\n",
       "      <th>2021-05-03 04:00:00+00:00</th>\n",
       "      <td>114.40</td>\n",
       "      <td>114.59</td>\n",
       "      <td>114.3300</td>\n",
       "      <td>114.39</td>\n",
       "      <td>5936657</td>\n",
       "      <td>23470</td>\n",
       "      <td>114.434938</td>\n",
       "      <td>419.43</td>\n",
       "      <td>419.840</td>\n",
       "      <td>417.665</td>\n",
       "      <td>418.20</td>\n",
       "      <td>67670957</td>\n",
       "      <td>380266</td>\n",
       "      <td>418.287830</td>\n",
       "    </tr>\n",
       "    <tr>\n",
       "      <th>2021-05-04 04:00:00+00:00</th>\n",
       "      <td>114.55</td>\n",
       "      <td>114.70</td>\n",
       "      <td>114.4100</td>\n",
       "      <td>114.53</td>\n",
       "      <td>6205516</td>\n",
       "      <td>19679</td>\n",
       "      <td>114.553615</td>\n",
       "      <td>416.07</td>\n",
       "      <td>416.600</td>\n",
       "      <td>411.670</td>\n",
       "      <td>415.62</td>\n",
       "      <td>100024724</td>\n",
       "      <td>630354</td>\n",
       "      <td>414.468857</td>\n",
       "    </tr>\n",
       "    <tr>\n",
       "      <th>2021-05-05 04:00:00+00:00</th>\n",
       "      <td>114.45</td>\n",
       "      <td>114.62</td>\n",
       "      <td>114.4222</td>\n",
       "      <td>114.62</td>\n",
       "      <td>4475129</td>\n",
       "      <td>14703</td>\n",
       "      <td>114.545336</td>\n",
       "      <td>417.38</td>\n",
       "      <td>417.630</td>\n",
       "      <td>414.940</td>\n",
       "      <td>415.75</td>\n",
       "      <td>59551464</td>\n",
       "      <td>392496</td>\n",
       "      <td>416.251905</td>\n",
       "    </tr>\n",
       "    <tr>\n",
       "      <th>2021-05-06 04:00:00+00:00</th>\n",
       "      <td>114.55</td>\n",
       "      <td>114.71</td>\n",
       "      <td>114.5300</td>\n",
       "      <td>114.64</td>\n",
       "      <td>4572038</td>\n",
       "      <td>16297</td>\n",
       "      <td>114.647698</td>\n",
       "      <td>415.83</td>\n",
       "      <td>419.210</td>\n",
       "      <td>413.675</td>\n",
       "      <td>419.07</td>\n",
       "      <td>72531325</td>\n",
       "      <td>496748</td>\n",
       "      <td>416.635970</td>\n",
       "    </tr>\n",
       "    <tr>\n",
       "      <th>2021-05-07 04:00:00+00:00</th>\n",
       "      <td>114.85</td>\n",
       "      <td>114.97</td>\n",
       "      <td>114.5700</td>\n",
       "      <td>114.61</td>\n",
       "      <td>7003905</td>\n",
       "      <td>23953</td>\n",
       "      <td>114.699885</td>\n",
       "      <td>419.89</td>\n",
       "      <td>422.815</td>\n",
       "      <td>419.160</td>\n",
       "      <td>422.12</td>\n",
       "      <td>67458109</td>\n",
       "      <td>430564</td>\n",
       "      <td>421.616436</td>\n",
       "    </tr>\n",
       "  </tbody>\n",
       "</table>\n",
       "</div>"
      ],
      "text/plain": [
       "                              AGG                                      \n",
       "                             open    high       low   close   volume   \n",
       "timestamp                                                              \n",
       "2021-05-03 04:00:00+00:00  114.40  114.59  114.3300  114.39  5936657  \\\n",
       "2021-05-04 04:00:00+00:00  114.55  114.70  114.4100  114.53  6205516   \n",
       "2021-05-05 04:00:00+00:00  114.45  114.62  114.4222  114.62  4475129   \n",
       "2021-05-06 04:00:00+00:00  114.55  114.71  114.5300  114.64  4572038   \n",
       "2021-05-07 04:00:00+00:00  114.85  114.97  114.5700  114.61  7003905   \n",
       "\n",
       "                                                      SPY                     \n",
       "                          trade_count        vwap    open     high      low   \n",
       "timestamp                                                                     \n",
       "2021-05-03 04:00:00+00:00       23470  114.434938  419.43  419.840  417.665  \\\n",
       "2021-05-04 04:00:00+00:00       19679  114.553615  416.07  416.600  411.670   \n",
       "2021-05-05 04:00:00+00:00       14703  114.545336  417.38  417.630  414.940   \n",
       "2021-05-06 04:00:00+00:00       16297  114.647698  415.83  419.210  413.675   \n",
       "2021-05-07 04:00:00+00:00       23953  114.699885  419.89  422.815  419.160   \n",
       "\n",
       "                                                                      \n",
       "                            close     volume trade_count        vwap  \n",
       "timestamp                                                             \n",
       "2021-05-03 04:00:00+00:00  418.20   67670957      380266  418.287830  \n",
       "2021-05-04 04:00:00+00:00  415.62  100024724      630354  414.468857  \n",
       "2021-05-05 04:00:00+00:00  415.75   59551464      392496  416.251905  \n",
       "2021-05-06 04:00:00+00:00  419.07   72531325      496748  416.635970  \n",
       "2021-05-07 04:00:00+00:00  422.12   67458109      430564  421.616436  "
      ]
     },
     "execution_count": 68,
     "metadata": {},
     "output_type": "execute_result"
    }
   ],
   "source": [
    "# Reorganize the DataFrame\n",
    "# Separate ticker data\n",
    "AGG = spy_agg_df[spy_agg_df[\"symbol\"]==\"AGG\"].drop(\"symbol\", axis=1)\n",
    "SPY = spy_agg_df[spy_agg_df[\"symbol\"]==\"SPY\"].drop(\"symbol\", axis=1)\n",
    "\n",
    "\n",
    "# Concatenate the ticker DataFrames\n",
    "df_ticker = pd.concat([AGG, SPY], axis=1, keys=[\"AGG\",\"SPY\"])\n",
    "\n",
    "# Display sample data\n",
    "df_ticker.head()"
   ]
  },
  {
   "cell_type": "code",
   "execution_count": 76,
   "metadata": {},
   "outputs": [
    {
     "name": "stdout",
     "output_type": "stream",
     "text": [
      "Current AGG closing price: $102.87\n",
      "Current SPY closing price: $412.0\n"
     ]
    }
   ],
   "source": [
    "# Pick AGG and SPY close prices\n",
    "# YOUR CODE HERE!\n",
    "\n",
    "#print(f\"close price = {AGG['close'][-1]}\")\n",
    "#print(f\"close price = {SPY['close'][-1]}\")\n",
    "agg_close_price = AGG['close'][-1]\n",
    "spy_close_price = SPY['close'][-1]\n",
    "#agg_close_price = get_latest_close(AGG)\n",
    "#spy_close_price = get_latest_close(SPY)\n",
    "\n",
    "# Print AGG and SPY close prices\n",
    "print(f\"Current AGG closing price: ${agg_close_price}\")\n",
    "print(f\"Current SPY closing price: ${spy_close_price}\")"
   ]
  },
  {
   "cell_type": "code",
   "execution_count": 77,
   "metadata": {},
   "outputs": [
    {
     "name": "stdout",
     "output_type": "stream",
     "text": [
      "The current value of your 50 SPY shares is $20600.00\n",
      "The current value of your 200 AGG shares is $20574.00\n"
     ]
    }
   ],
   "source": [
    "# Compute the current value of shares\n",
    "# YOUR CODE HERE!\n",
    "my_spy_value = my_spy * spy_close_price\n",
    "my_agg_value = my_agg * agg_close_price\n",
    "\n",
    "# Print current value of shares\n",
    "print(f\"The current value of your {my_spy} SPY shares is ${my_spy_value:0.2f}\")\n",
    "print(f\"The current value of your {my_agg} AGG shares is ${my_agg_value:0.2f}\")"
   ]
  },
  {
   "cell_type": "markdown",
   "metadata": {},
   "source": [
    "### Savings Health Analysis"
   ]
  },
  {
   "cell_type": "code",
   "execution_count": 83,
   "metadata": {},
   "outputs": [
    {
     "data": {
      "text/html": [
       "<div>\n",
       "<style scoped>\n",
       "    .dataframe tbody tr th:only-of-type {\n",
       "        vertical-align: middle;\n",
       "    }\n",
       "\n",
       "    .dataframe tbody tr th {\n",
       "        vertical-align: top;\n",
       "    }\n",
       "\n",
       "    .dataframe thead th {\n",
       "        text-align: right;\n",
       "    }\n",
       "</style>\n",
       "<table border=\"1\" class=\"dataframe\">\n",
       "  <thead>\n",
       "    <tr style=\"text-align: right;\">\n",
       "      <th></th>\n",
       "      <th>Amount</th>\n",
       "    </tr>\n",
       "  </thead>\n",
       "  <tbody>\n",
       "    <tr>\n",
       "      <th>crypto</th>\n",
       "      <td>44099.316</td>\n",
       "    </tr>\n",
       "    <tr>\n",
       "      <th>shares</th>\n",
       "      <td>41174.000</td>\n",
       "    </tr>\n",
       "  </tbody>\n",
       "</table>\n",
       "</div>"
      ],
      "text/plain": [
       "           Amount\n",
       "crypto  44099.316\n",
       "shares  41174.000"
      ]
     },
     "metadata": {},
     "output_type": "display_data"
    }
   ],
   "source": [
    "# Set monthly household income\n",
    "# YOUR CODE HERE!\n",
    "monthly_income = 12000\n",
    "\n",
    "# Consolidate financial assets data\n",
    "# YOUR CODE HERE!\n",
    "crypto = my_btc_value + my_eth_value\n",
    "shares = my_spy_value + my_agg_value\n",
    "\n",
    "# Create savings DataFrame\n",
    "# YOUR CODE HERE!\n",
    "df_savings = pd.DataFrame(data=[crypto,shares], columns=['Amount'], index=['crypto', 'shares'])\n",
    "\n",
    "\n",
    "# Display savings DataFrame\n",
    "display(df_savings)"
   ]
  },
  {
   "cell_type": "code",
   "execution_count": 88,
   "metadata": {},
   "outputs": [
    {
     "data": {
      "text/plain": [
       "<Axes: ylabel='Amount'>"
      ]
     },
     "execution_count": 88,
     "metadata": {},
     "output_type": "execute_result"
    },
    {
     "data": {
      "image/png": "[encoded data removed]",
      "text/plain": [
       "<Figure size 2000x1000 with 1 Axes>"
      ]
     },
     "metadata": {},
     "output_type": "display_data"
    }
   ],
   "source": [
    "# Plot savings pie chart\n",
    "# YOUR CODE HERE!\n",
    "df_savings.plot.pie(y=\"Amount\",figsize=(20,10))"
   ]
  },
  {
   "cell_type": "code",
   "execution_count": 90,
   "metadata": {},
   "outputs": [
    {
     "name": "stdout",
     "output_type": "stream",
     "text": [
      "Congratulations! You have enough monery in yout emergency fund.\n"
     ]
    }
   ],
   "source": [
    "# Set ideal emergency fund\n",
    "emergency_fund = monthly_income * 3\n",
    "\n",
    "# Calculate total amount of savings\n",
    "# YOUR CODE HERE!\n",
    "savings = df_savings['Amount'].sum()\n",
    "\n",
    "# Validate saving health\n",
    "# YOUR CODE HERE!\n",
    "if savings > emergency_fund:\n",
    "    print('Congratulations! You have enough monery in yout emergency fund.')\n",
    "elif savings == emergency_fund:\n",
    "    print('Congratulations! You have reached your savings goal.')\n",
    "else:\n",
    "    money_needed = emergency_fund-savings\n",
    "    print(f'You need ${money_needed} more dollars to reach your savingd goal')"
   ]
  },
  {
   "cell_type": "markdown",
   "metadata": {},
   "source": [
    "## Part 2 - Retirement Planning\n",
    "\n",
    "### Monte Carlo Simulation"
   ]
  },
  {
   "cell_type": "code",
   "execution_count": 92,
   "metadata": {},
   "outputs": [],
   "source": [
    "# Set start and end dates of five years back from today.\n",
    "# Sample results may vary from the solution based on the time frame chosen\n",
    "start = pd.Timestamp('2016-05-01', tz='America/New_York').isoformat()\n",
    "end = pd.Timestamp('2021-05-01', tz='America/New_York').isoformat()"
   ]
  },
  {
   "cell_type": "code",
   "execution_count": 93,
   "metadata": {},
   "outputs": [
    {
     "data": {
      "text/html": [
       "<div>\n",
       "<style scoped>\n",
       "    .dataframe tbody tr th:only-of-type {\n",
       "        vertical-align: middle;\n",
       "    }\n",
       "\n",
       "    .dataframe tbody tr th {\n",
       "        vertical-align: top;\n",
       "    }\n",
       "\n",
       "    .dataframe thead tr th {\n",
       "        text-align: left;\n",
       "    }\n",
       "\n",
       "    .dataframe thead tr:last-of-type th {\n",
       "        text-align: right;\n",
       "    }\n",
       "</style>\n",
       "<table border=\"1\" class=\"dataframe\">\n",
       "  <thead>\n",
       "    <tr>\n",
       "      <th></th>\n",
       "      <th colspan=\"7\" halign=\"left\">AGG</th>\n",
       "      <th colspan=\"7\" halign=\"left\">SPY</th>\n",
       "    </tr>\n",
       "    <tr>\n",
       "      <th></th>\n",
       "      <th>open</th>\n",
       "      <th>high</th>\n",
       "      <th>low</th>\n",
       "      <th>close</th>\n",
       "      <th>volume</th>\n",
       "      <th>trade_count</th>\n",
       "      <th>vwap</th>\n",
       "      <th>open</th>\n",
       "      <th>high</th>\n",
       "      <th>low</th>\n",
       "      <th>close</th>\n",
       "      <th>volume</th>\n",
       "      <th>trade_count</th>\n",
       "      <th>vwap</th>\n",
       "    </tr>\n",
       "    <tr>\n",
       "      <th>timestamp</th>\n",
       "      <th></th>\n",
       "      <th></th>\n",
       "      <th></th>\n",
       "      <th></th>\n",
       "      <th></th>\n",
       "      <th></th>\n",
       "      <th></th>\n",
       "      <th></th>\n",
       "      <th></th>\n",
       "      <th></th>\n",
       "      <th></th>\n",
       "      <th></th>\n",
       "      <th></th>\n",
       "      <th></th>\n",
       "    </tr>\n",
       "  </thead>\n",
       "  <tbody>\n",
       "    <tr>\n",
       "      <th>2016-05-02 04:00:00+00:00</th>\n",
       "      <td>110.74</td>\n",
       "      <td>110.7400</td>\n",
       "      <td>110.5200</td>\n",
       "      <td>110.605</td>\n",
       "      <td>3553939</td>\n",
       "      <td>15119</td>\n",
       "      <td>110.627199</td>\n",
       "      <td>206.92</td>\n",
       "      <td>208.18</td>\n",
       "      <td>206.41</td>\n",
       "      <td>207.9700</td>\n",
       "      <td>61908515</td>\n",
       "      <td>263580</td>\n",
       "      <td>207.294812</td>\n",
       "    </tr>\n",
       "    <tr>\n",
       "      <th>2016-05-03 04:00:00+00:00</th>\n",
       "      <td>110.89</td>\n",
       "      <td>110.9450</td>\n",
       "      <td>110.7500</td>\n",
       "      <td>110.810</td>\n",
       "      <td>3044940</td>\n",
       "      <td>15662</td>\n",
       "      <td>110.865995</td>\n",
       "      <td>206.52</td>\n",
       "      <td>206.80</td>\n",
       "      <td>205.28</td>\n",
       "      <td>206.1592</td>\n",
       "      <td>106422142</td>\n",
       "      <td>377518</td>\n",
       "      <td>206.312060</td>\n",
       "    </tr>\n",
       "    <tr>\n",
       "      <th>2016-05-04 04:00:00+00:00</th>\n",
       "      <td>110.91</td>\n",
       "      <td>110.9315</td>\n",
       "      <td>110.7595</td>\n",
       "      <td>110.860</td>\n",
       "      <td>2920608</td>\n",
       "      <td>13982</td>\n",
       "      <td>110.879063</td>\n",
       "      <td>204.99</td>\n",
       "      <td>205.85</td>\n",
       "      <td>204.42</td>\n",
       "      <td>205.0100</td>\n",
       "      <td>92199810</td>\n",
       "      <td>345261</td>\n",
       "      <td>205.090172</td>\n",
       "    </tr>\n",
       "    <tr>\n",
       "      <th>2016-05-05 04:00:00+00:00</th>\n",
       "      <td>110.92</td>\n",
       "      <td>111.1600</td>\n",
       "      <td>110.8010</td>\n",
       "      <td>111.140</td>\n",
       "      <td>3008142</td>\n",
       "      <td>15707</td>\n",
       "      <td>111.028363</td>\n",
       "      <td>205.56</td>\n",
       "      <td>205.98</td>\n",
       "      <td>204.47</td>\n",
       "      <td>204.9700</td>\n",
       "      <td>67597222</td>\n",
       "      <td>280622</td>\n",
       "      <td>205.141555</td>\n",
       "    </tr>\n",
       "    <tr>\n",
       "      <th>2016-05-06 04:00:00+00:00</th>\n",
       "      <td>111.12</td>\n",
       "      <td>111.1200</td>\n",
       "      <td>110.9700</td>\n",
       "      <td>110.970</td>\n",
       "      <td>2718710</td>\n",
       "      <td>12697</td>\n",
       "      <td>111.031967</td>\n",
       "      <td>204.08</td>\n",
       "      <td>205.77</td>\n",
       "      <td>203.88</td>\n",
       "      <td>205.7200</td>\n",
       "      <td>89131004</td>\n",
       "      <td>340335</td>\n",
       "      <td>204.937074</td>\n",
       "    </tr>\n",
       "  </tbody>\n",
       "</table>\n",
       "</div>"
      ],
      "text/plain": [
       "                              AGG                                         \n",
       "                             open      high       low    close   volume   \n",
       "timestamp                                                                 \n",
       "2016-05-02 04:00:00+00:00  110.74  110.7400  110.5200  110.605  3553939  \\\n",
       "2016-05-03 04:00:00+00:00  110.89  110.9450  110.7500  110.810  3044940   \n",
       "2016-05-04 04:00:00+00:00  110.91  110.9315  110.7595  110.860  2920608   \n",
       "2016-05-05 04:00:00+00:00  110.92  111.1600  110.8010  111.140  3008142   \n",
       "2016-05-06 04:00:00+00:00  111.12  111.1200  110.9700  110.970  2718710   \n",
       "\n",
       "                                                      SPY                   \n",
       "                          trade_count        vwap    open    high     low   \n",
       "timestamp                                                                   \n",
       "2016-05-02 04:00:00+00:00       15119  110.627199  206.92  208.18  206.41  \\\n",
       "2016-05-03 04:00:00+00:00       15662  110.865995  206.52  206.80  205.28   \n",
       "2016-05-04 04:00:00+00:00       13982  110.879063  204.99  205.85  204.42   \n",
       "2016-05-05 04:00:00+00:00       15707  111.028363  205.56  205.98  204.47   \n",
       "2016-05-06 04:00:00+00:00       12697  111.031967  204.08  205.77  203.88   \n",
       "\n",
       "                                                                        \n",
       "                              close     volume trade_count        vwap  \n",
       "timestamp                                                               \n",
       "2016-05-02 04:00:00+00:00  207.9700   61908515      263580  207.294812  \n",
       "2016-05-03 04:00:00+00:00  206.1592  106422142      377518  206.312060  \n",
       "2016-05-04 04:00:00+00:00  205.0100   92199810      345261  205.090172  \n",
       "2016-05-05 04:00:00+00:00  204.9700   67597222      280622  205.141555  \n",
       "2016-05-06 04:00:00+00:00  205.7200   89131004      340335  204.937074  "
      ]
     },
     "execution_count": 93,
     "metadata": {},
     "output_type": "execute_result"
    }
   ],
   "source": [
    "# Get 5 years' worth of historical data for SPY and AGG\n",
    "# YOUR CODE HERE!\n",
    "spy_agg_df = alpaca_api.get_bars(tickers, \n",
    "                                 timeframe, \n",
    "                                 start=start, \n",
    "                                 end=end).df\n",
    "\n",
    "# Reorganize the DataFrame\n",
    "# Separate ticker data\n",
    "# YOUR CODE HERE!\n",
    "AGG = spy_agg_df[spy_agg_df[\"symbol\"]==\"AGG\"].drop(\"symbol\", axis=1)\n",
    "SPY = spy_agg_df[spy_agg_df[\"symbol\"]==\"SPY\"].drop(\"symbol\", axis=1)\n",
    "\n",
    "# Concatenate the ticker DataFrames\n",
    "# YOUR CODE HERE!\n",
    "df_stock_data = pd.concat([AGG, SPY], axis=1, keys=[\"AGG\",\"SPY\"])\n",
    "\n",
    "# Display sample data\n",
    "df_stock_data.head()"
   ]
  },
  {
   "cell_type": "code",
   "execution_count": null,
   "metadata": {},
   "outputs": [],
   "source": [
    "# Configuring a Monte Carlo simulation to forecast 30 years cumulative returns\n",
    "# YOUR CODE HERE!\n",
    "MCSimulation.plot_simulation(df_stock_data)"
   ]
  },
  {
   "cell_type": "code",
   "execution_count": null,
   "metadata": {},
   "outputs": [],
   "source": [
    "# Printing the simulation input data\n",
    "# YOUR CODE HERE!"
   ]
  },
  {
   "cell_type": "code",
   "execution_count": null,
   "metadata": {},
   "outputs": [],
   "source": [
    "# Running a Monte Carlo simulation to forecast 30 years cumulative returns\n",
    "# YOUR CODE HERE!"
   ]
  },
  {
   "cell_type": "code",
   "execution_count": null,
   "metadata": {},
   "outputs": [],
   "source": [
    "# Plot simulation outcomes\n",
    "# YOUR CODE HERE!"
   ]
  },
  {
   "cell_type": "code",
   "execution_count": null,
   "metadata": {},
   "outputs": [],
   "source": [
    "# Plot probability distribution and confidence intervals\n",
    "# YOUR CODE HERE!"
   ]
  },
  {
   "cell_type": "markdown",
   "metadata": {},
   "source": [
    "### Retirement Analysis"
   ]
  },
  {
   "cell_type": "code",
   "execution_count": null,
   "metadata": {},
   "outputs": [],
   "source": [
    "# Fetch summary statistics from the Monte Carlo simulation results\n",
    "# YOUR CODE HERE!\n",
    "\n",
    "# Print summary statistics\n",
    "# YOUR CODE HERE!"
   ]
  },
  {
   "cell_type": "markdown",
   "metadata": {},
   "source": [
    "### Calculate the expected portfolio return at the `95%` lower and upper confidence intervals based on a `$20,000` initial investment."
   ]
  },
  {
   "cell_type": "code",
   "execution_count": null,
   "metadata": {},
   "outputs": [],
   "source": [
    "# Set initial investment\n",
    "initial_investment = 20000\n",
    "\n",
    "# Use the lower and upper `95%` confidence intervals to calculate the range of the possible outcomes of our $20,000\n",
    "# YOUR CODE HERE!\n",
    "\n",
    "# Print results\n",
    "print(f\"There is a 95% chance that an initial investment of ${initial_investment} in the portfolio\"\n",
    "      f\" over the next 30 years will end within in the range of\"\n",
    "      f\" ${ci_lower} and ${ci_upper}\")"
   ]
  },
  {
   "cell_type": "markdown",
   "metadata": {},
   "source": [
    "### Calculate the expected portfolio return at the `95%` lower and upper confidence intervals based on a `50%` increase in the initial investment."
   ]
  },
  {
   "cell_type": "code",
   "execution_count": null,
   "metadata": {},
   "outputs": [],
   "source": [
    "# Set initial investment\n",
    "initial_investment = 20000 * 1.5\n",
    "\n",
    "# Use the lower and upper `95%` confidence intervals to calculate the range of the possible outcomes of our $30,000\n",
    "# YOUR CODE HERE!\n",
    "\n",
    "# Print results\n",
    "print(f\"There is a 95% chance that an initial investment of ${initial_investment} in the portfolio\"\n",
    "      f\" over the next 30 years will end within in the range of\"\n",
    "      f\" ${ci_lower} and ${ci_upper}\")"
   ]
  },
  {
   "cell_type": "markdown",
   "metadata": {},
   "source": [
    "## Optional Challenge - Early Retirement\n",
    "\n",
    "\n",
    "### Five Years Retirement Option"
   ]
  },
  {
   "cell_type": "code",
   "execution_count": null,
   "metadata": {},
   "outputs": [],
   "source": [
    "# Configuring a Monte Carlo simulation to forecast 5 years cumulative returns\n",
    "# YOUR CODE HERE!"
   ]
  },
  {
   "cell_type": "code",
   "execution_count": null,
   "metadata": {},
   "outputs": [],
   "source": [
    "# Running a Monte Carlo simulation to forecast 5 years cumulative returns\n",
    "# YOUR CODE HERE!"
   ]
  },
  {
   "cell_type": "code",
   "execution_count": null,
   "metadata": {},
   "outputs": [],
   "source": [
    "# Plot simulation outcomes\n",
    "# YOUR CODE HERE!"
   ]
  },
  {
   "cell_type": "code",
   "execution_count": null,
   "metadata": {},
   "outputs": [],
   "source": [
    "# Plot probability distribution and confidence intervals\n",
    "# YOUR CODE HERE!"
   ]
  },
  {
   "cell_type": "code",
   "execution_count": null,
   "metadata": {},
   "outputs": [],
   "source": [
    "# Fetch summary statistics from the Monte Carlo simulation results\n",
    "# YOUR CODE HERE!\n",
    "\n",
    "# Print summary statistics\n",
    "# YOUR CODE HERE!"
   ]
  },
  {
   "cell_type": "code",
   "execution_count": null,
   "metadata": {},
   "outputs": [],
   "source": [
    "# Set initial investment\n",
    "# YOUR CODE HERE!\n",
    "\n",
    "# Use the lower and upper `95%` confidence intervals to calculate the range of the possible outcomes of our $60,000\n",
    "# YOUR CODE HERE!\n",
    "\n",
    "# Print results\n",
    "print(f\"There is a 95% chance that an initial investment of ${initial_investment} in the portfolio\"\n",
    "      f\" over the next 5 years will end within in the range of\"\n",
    "      f\" ${ci_lower_five} and ${ci_upper_five}\")"
   ]
  },
  {
   "cell_type": "markdown",
   "metadata": {},
   "source": [
    "### Ten Years Retirement Option"
   ]
  },
  {
   "cell_type": "code",
   "execution_count": null,
   "metadata": {},
   "outputs": [],
   "source": [
    "# Configuring a Monte Carlo simulation to forecast 10 years cumulative returns\n",
    "# YOUR CODE HERE!"
   ]
  },
  {
   "cell_type": "code",
   "execution_count": null,
   "metadata": {},
   "outputs": [],
   "source": [
    "# Running a Monte Carlo simulation to forecast 10 years cumulative returns\n",
    "# YOUR CODE HERE!"
   ]
  },
  {
   "cell_type": "code",
   "execution_count": null,
   "metadata": {},
   "outputs": [],
   "source": [
    "# Plot simulation outcomes\n",
    "# YOUR CODE HERE!"
   ]
  },
  {
   "cell_type": "code",
   "execution_count": null,
   "metadata": {},
   "outputs": [],
   "source": [
    "# Plot probability distribution and confidence intervals\n",
    "# YOUR CODE HERE!"
   ]
  },
  {
   "cell_type": "code",
   "execution_count": null,
   "metadata": {},
   "outputs": [],
   "source": [
    "# Fetch summary statistics from the Monte Carlo simulation results\n",
    "# YOUR CODE HERE!\n",
    "\n",
    "# Print summary statistics\n",
    "# YOUR CODE HERE!"
   ]
  },
  {
   "cell_type": "code",
   "execution_count": null,
   "metadata": {},
   "outputs": [],
   "source": [
    "# Set initial investment\n",
    "# YOUR CODE HERE!\n",
    "\n",
    "# Use the lower and upper `95%` confidence intervals to calculate the range of the possible outcomes of our $60,000\n",
    "# YOUR CODE HERE!\n",
    "\n",
    "# Print results\n",
    "print(f\"There is a 95% chance that an initial investment of ${initial_investment} in the portfolio\"\n",
    "      f\" over the next 10 years will end within in the range of\"\n",
    "      f\" ${ci_lower_ten} and ${ci_upper_ten}\")"
   ]
  },
  {
   "cell_type": "code",
   "execution_count": null,
   "metadata": {},
   "outputs": [],
   "source": []
  }
 ],
 "metadata": {
  "kernelspec": {
   "display_name": "Python 3 (ipykernel)",
   "language": "python",
   "name": "python3"
  },
  "language_info": {
   "codemirror_mode": {
    "name": "ipython",
    "version": 3
   },
   "file_extension": ".py",
   "mimetype": "text/x-python",
   "name": "python",
   "nbconvert_exporter": "python",
   "pygments_lexer": "ipython3",
   "version": "3.10.10"
  },
  "nteract": {
   "version": "0.28.0"
  }
 },
 "nbformat": 4,
 "nbformat_minor": 4
}
